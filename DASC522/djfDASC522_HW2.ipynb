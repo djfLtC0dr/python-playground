{
  "nbformat": 4,
  "nbformat_minor": 0,
  "metadata": {
    "colab": {
      "provenance": [],
      "authorship_tag": "ABX9TyOmeoQQ36tFSlws+CNJbUL6",
      "include_colab_link": true
    },
    "kernelspec": {
      "name": "python3",
      "display_name": "Python 3"
    },
    "language_info": {
      "name": "python"
    }
  },
  "cells": [
    {
      "cell_type": "markdown",
      "metadata": {
        "id": "view-in-github",
        "colab_type": "text"
      },
      "source": [
        "<a href=\"https://colab.research.google.com/github/djfLtC0dr/python-playground/blob/main/DASC522/djfDASC522_HW2.ipynb\" target=\"_parent\"><img src=\"https://colab.research.google.com/assets/colab-badge.svg\" alt=\"Open In Colab\"/></a>"
      ]
    },
    {
      "cell_type": "code",
      "execution_count": null,
      "metadata": {
        "id": "z9KpqD0KHMrj"
      },
      "outputs": [],
      "source": []
    },
    {
      "cell_type": "markdown",
      "source": [
        "a. Break your code into logical chunks => SOP imports"
      ],
      "metadata": {
        "id": "97hyYMZaUAZ4"
      }
    },
    {
      "cell_type": "code",
      "source": [
        "# importing libraries\n",
        "import statsmodels.api as sm\n",
        "import pandas as pd \n",
        "\n",
        "# loading the training dataset \n",
        "data = pd.read_csv('/home/LRS_Pre_Assessment_trimmed_rank.csv', index_col = 0)\n",
        "print(data)"
      ],
      "metadata": {
        "colab": {
          "base_uri": "https://localhost:8080/"
        },
        "id": "frjJOTSAUIZ_",
        "outputId": "874e60ae-e30b-432e-a52d-6bac3220c6fc"
      },
      "execution_count": 9,
      "outputs": [
        {
          "output_type": "stream",
          "name": "stdout",
          "text": [
            "              Rank  Age Gender  ORS_total  PTSD_score  Sleep_score  \\\n",
            "Flight                                                               \n",
            "D       JrEnlisted   40      M        9.8           5            8   \n",
            "D       JrEnlisted   22      M        5.0          22           10   \n",
            "D       JrEnlisted   20      M        9.6           1            3   \n",
            "M       JrEnlisted   21      F        5.0          12           13   \n",
            "D       JrEnlisted   27      M        8.3           0            6   \n",
            "...            ...  ...    ...        ...         ...          ...   \n",
            "M       SrEnlisted   39      F        3.3          28           12   \n",
            "M       JrEnlisted   21      F        4.7          13            7   \n",
            "M       JrEnlisted   23      F        8.7           0            6   \n",
            "M       JrEnlisted   20      M        5.7          12            4   \n",
            "CC      SrEnlisted   34      M        9.0           8            3   \n",
            "\n",
            "        survey_Burnout  survey_FitSat   BMI  BodyFatPerc  MusclePerc  \\\n",
            "Flight                                                                 \n",
            "D                    2              3  27.9       0.3000       0.328   \n",
            "D                    4              2  33.0       0.3680       0.308   \n",
            "D                    1              3  24.8       0.0273       0.356   \n",
            "M                    5              3  24.5       0.4160       0.221   \n",
            "D                    1              5  23.7       0.2120       0.385   \n",
            "...                ...            ...   ...          ...         ...   \n",
            "M                    3              3  27.3       0.4440       0.227   \n",
            "M                    2              2  27.9       0.4100       0.260   \n",
            "M                    2              4  20.0       0.2720       0.308   \n",
            "M                    2              4  20.3       0.1100       0.448   \n",
            "CC                   2              3  33.1       0.3210       0.316   \n",
            "\n",
            "        APFT_1_is_pass  \n",
            "Flight                  \n",
            "D                    1  \n",
            "D                    0  \n",
            "D                    0  \n",
            "M                    1  \n",
            "D                    1  \n",
            "...                ...  \n",
            "M                    0  \n",
            "M                    0  \n",
            "M                    1  \n",
            "M                    1  \n",
            "CC                   1  \n",
            "\n",
            "[157 rows x 12 columns]\n"
          ]
        }
      ]
    },
    {
      "cell_type": "markdown",
      "source": [
        "b. Drop the “flight” column and one-hot-encode the “rank” & “gender” *columns*"
      ],
      "metadata": {
        "id": "x-hQ8qAjVXkS"
      }
    },
    {
      "cell_type": "code",
      "source": [
        "data.drop('Flight', axis=1, inplace=True)\n",
        "data_encoded = pd.get_dummies(data, columns = ['Rank','Gender'])"
      ],
      "metadata": {
        "id": "cSbb4QYvV8fQ"
      },
      "execution_count": null,
      "outputs": []
    },
    {
      "cell_type": "markdown",
      "source": [
        "c. Data Understanding"
      ],
      "metadata": {
        "id": "aQRQn90zWE1f"
      }
    }
  ]
}